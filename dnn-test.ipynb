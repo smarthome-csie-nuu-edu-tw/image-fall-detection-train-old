{
 "cells": [
  {
   "cell_type": "code",
   "execution_count": 1,
   "metadata": {},
   "outputs": [
    {
     "name": "stderr",
     "output_type": "stream",
     "text": [
      "/opt/conda/lib/python3.6/site-packages/tensorflow/python/framework/dtypes.py:516: FutureWarning: Passing (type, 1) or '1type' as a synonym of type is deprecated; in a future version of numpy, it will be understood as (type, (1,)) / '(1,)type'.\n",
      "  _np_qint8 = np.dtype([(\"qint8\", np.int8, 1)])\n",
      "/opt/conda/lib/python3.6/site-packages/tensorflow/python/framework/dtypes.py:517: FutureWarning: Passing (type, 1) or '1type' as a synonym of type is deprecated; in a future version of numpy, it will be understood as (type, (1,)) / '(1,)type'.\n",
      "  _np_quint8 = np.dtype([(\"quint8\", np.uint8, 1)])\n",
      "/opt/conda/lib/python3.6/site-packages/tensorflow/python/framework/dtypes.py:518: FutureWarning: Passing (type, 1) or '1type' as a synonym of type is deprecated; in a future version of numpy, it will be understood as (type, (1,)) / '(1,)type'.\n",
      "  _np_qint16 = np.dtype([(\"qint16\", np.int16, 1)])\n",
      "/opt/conda/lib/python3.6/site-packages/tensorflow/python/framework/dtypes.py:519: FutureWarning: Passing (type, 1) or '1type' as a synonym of type is deprecated; in a future version of numpy, it will be understood as (type, (1,)) / '(1,)type'.\n",
      "  _np_quint16 = np.dtype([(\"quint16\", np.uint16, 1)])\n",
      "/opt/conda/lib/python3.6/site-packages/tensorflow/python/framework/dtypes.py:520: FutureWarning: Passing (type, 1) or '1type' as a synonym of type is deprecated; in a future version of numpy, it will be understood as (type, (1,)) / '(1,)type'.\n",
      "  _np_qint32 = np.dtype([(\"qint32\", np.int32, 1)])\n",
      "/opt/conda/lib/python3.6/site-packages/tensorflow/python/framework/dtypes.py:525: FutureWarning: Passing (type, 1) or '1type' as a synonym of type is deprecated; in a future version of numpy, it will be understood as (type, (1,)) / '(1,)type'.\n",
      "  np_resource = np.dtype([(\"resource\", np.ubyte, 1)])\n",
      "/opt/conda/lib/python3.6/site-packages/tensorboard/compat/tensorflow_stub/dtypes.py:541: FutureWarning: Passing (type, 1) or '1type' as a synonym of type is deprecated; in a future version of numpy, it will be understood as (type, (1,)) / '(1,)type'.\n",
      "  _np_qint8 = np.dtype([(\"qint8\", np.int8, 1)])\n",
      "/opt/conda/lib/python3.6/site-packages/tensorboard/compat/tensorflow_stub/dtypes.py:542: FutureWarning: Passing (type, 1) or '1type' as a synonym of type is deprecated; in a future version of numpy, it will be understood as (type, (1,)) / '(1,)type'.\n",
      "  _np_quint8 = np.dtype([(\"quint8\", np.uint8, 1)])\n",
      "/opt/conda/lib/python3.6/site-packages/tensorboard/compat/tensorflow_stub/dtypes.py:543: FutureWarning: Passing (type, 1) or '1type' as a synonym of type is deprecated; in a future version of numpy, it will be understood as (type, (1,)) / '(1,)type'.\n",
      "  _np_qint16 = np.dtype([(\"qint16\", np.int16, 1)])\n",
      "/opt/conda/lib/python3.6/site-packages/tensorboard/compat/tensorflow_stub/dtypes.py:544: FutureWarning: Passing (type, 1) or '1type' as a synonym of type is deprecated; in a future version of numpy, it will be understood as (type, (1,)) / '(1,)type'.\n",
      "  _np_quint16 = np.dtype([(\"quint16\", np.uint16, 1)])\n",
      "/opt/conda/lib/python3.6/site-packages/tensorboard/compat/tensorflow_stub/dtypes.py:545: FutureWarning: Passing (type, 1) or '1type' as a synonym of type is deprecated; in a future version of numpy, it will be understood as (type, (1,)) / '(1,)type'.\n",
      "  _np_qint32 = np.dtype([(\"qint32\", np.int32, 1)])\n",
      "/opt/conda/lib/python3.6/site-packages/tensorboard/compat/tensorflow_stub/dtypes.py:550: FutureWarning: Passing (type, 1) or '1type' as a synonym of type is deprecated; in a future version of numpy, it will be understood as (type, (1,)) / '(1,)type'.\n",
      "  np_resource = np.dtype([(\"resource\", np.ubyte, 1)])\n",
      "Using TensorFlow backend.\n"
     ]
    }
   ],
   "source": [
    "import pandas as pd\n",
    "import numpy as np\n",
    "from tensorflow import keras\n",
    "from keras.utils.np_utils import *\n",
    "\n",
    "TARGET_LYING = 1\n",
    "TARGET_SITTING = 1\n",
    "TARGET_STAND = 1\n",
    "TARGET_FALL = 0\n",
    "TARGET_NO_FALL = 1\n",
    "\n",
    "TARGET_DIM = 2\n",
    "\n",
    "def handleData(datas, frac = None):\n",
    "    od = pd.concat(datas, axis=0)\n",
    "    if frac is not None:\n",
    "        d = od.sample(frac=frac)\n",
    "    else:\n",
    "        d = od\n",
    "    ds = pd.DataFrame(d, columns=d.columns[:-1])\n",
    "    tx = ds\n",
    "    ty = to_categorical(d['target'], TARGET_DIM)\n",
    "    return (tx, ty)"
   ]
  },
  {
   "cell_type": "code",
   "execution_count": 2,
   "metadata": {},
   "outputs": [],
   "source": [
    "# df_sitting_test = pd.read_csv('mdata/rows/bed_test/sitting.csv')\n",
    "# df_sitting_test['target'] = TARGET_SITTING\n",
    "# df_fall_test = pd.read_csv('mdata/rows/bed_test/fall.csv')\n",
    "# df_fall_test['target'] = TARGET_FALL\n",
    "# df_stand_test = pd.read_csv('mdata/rows/bed_test/stand.csv')\n",
    "# df_stand_test['target'] = TARGET_STAND\n",
    "\n",
    "df_fall = pd.read_csv('mdata/rows/BedTest-fall.csv')\n",
    "df_fall['target'] = TARGET_FALL\n",
    "df_no_fall = pd.read_csv('mdata/rows/BedTest-no-fall.csv')\n",
    "df_no_fall['target'] = TARGET_NO_FALL\n",
    "\n",
    "def testAcc(_model, frac = None):\n",
    "    tx, ty = handleData([df_fall, df_no_fall], frac)\n",
    "\n",
    "    score = _model.evaluate(tx, ty)\n",
    "    print ('Acc:', score[1])\n",
    "    return score[1]"
   ]
  },
  {
   "cell_type": "code",
   "execution_count": 7,
   "metadata": {},
   "outputs": [
    {
     "name": "stdout",
     "output_type": "stream",
     "text": [
      "713/713 [==============================] - 0s 240us/sample - loss: 0.0923 - acc: 0.9776\n",
      "Acc: 0.9775596\n",
      "570/570 [==============================] - 0s 101us/sample - loss: 0.0991 - acc: 0.9772\n",
      "Acc: 0.977193\n",
      "428/428 [==============================] - 0s 255us/sample - loss: 0.1129 - acc: 0.9720\n",
      "Acc: 0.97196263\n",
      "285/285 [==============================] - 0s 383us/sample - loss: 0.0727 - acc: 0.9825\n",
      "Acc: 0.98245615\n",
      "143/143 [==============================] - 0s 271us/sample - loss: 0.0978 - acc: 0.9790\n",
      "Acc: 0.97902095\n"
     ]
    },
    {
     "data": {
      "image/png": "[encoded data removed]",
      "text/plain": [
       "<Figure size 432x288 with 1 Axes>"
      ]
     },
     "metadata": {
      "needs_background": "light"
     },
     "output_type": "display_data"
    }
   ],
   "source": [
    "tmodel = keras.models.load_model('./mdata/model/model_2')\n",
    "scores = []\n",
    "rgs = np.arange(1, 0, -0.2)\n",
    "for i in rgs:\n",
    "    acc = testAcc(tmodel, i)\n",
    "    scores.append(acc)\n",
    "plt.plot(rgs, scores)\n",
    "plt.ylim(0.95, 1)\n",
    "plt.show()"
   ]
  },
  {
   "cell_type": "code",
   "execution_count": 9,
   "metadata": {},
   "outputs": [
    {
     "data": {
      "text/plain": [
       "[0.9775596, 0.977193, 0.97196263, 0.98245615, 0.97902095]"
      ]
     },
     "execution_count": 9,
     "metadata": {},
     "output_type": "execute_result"
    }
   ],
   "source": [
    "scores"
   ]
  },
  {
   "cell_type": "code",
   "execution_count": null,
   "metadata": {},
   "outputs": [],
   "source": []
  }
 ],
 "metadata": {
  "kernelspec": {
   "display_name": "Python 3",
   "language": "python",
   "name": "python3"
  },
  "language_info": {
   "codemirror_mode": {
    "name": "ipython",
    "version": 3
   },
   "file_extension": ".py",
   "mimetype": "text/x-python",
   "name": "python",
   "nbconvert_exporter": "python",
   "pygments_lexer": "ipython3",
   "version": "3.6.10"
  }
 },
 "nbformat": 4,
 "nbformat_minor": 4
}
