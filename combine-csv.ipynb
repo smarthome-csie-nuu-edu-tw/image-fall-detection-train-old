{
 "cells": [
  {
   "cell_type": "code",
   "execution_count": 1,
   "metadata": {},
   "outputs": [],
   "source": [
    "import os\n",
    "import pandas as pd\n",
    "\n",
    "def combine(origin, froms):\n",
    "    dfs = []\n",
    "    dfs.append(pd.read_csv(origin))\n",
    "    dfs.extend([pd.read_csv(f) for f in froms])\n",
    "    finale_csv = pd.concat(dfs, axis=0)\n",
    "    finale_csv.to_csv(origin, index=False)\n",
    "    print('finished.')"
   ]
  },
  {
   "cell_type": "code",
   "execution_count": 3,
   "metadata": {},
   "outputs": [
    {
     "name": "stdout",
     "output_type": "stream",
     "text": [
      "finished.\n"
     ]
    }
   ],
   "source": [
    "combine('./mdata/rows/finale/stand.csv', ['./mdata/rows/bed/data_2/stand.csv'])"
   ]
  },
  {
   "cell_type": "code",
   "execution_count": null,
   "metadata": {},
   "outputs": [],
   "source": []
  }
 ],
 "metadata": {
  "kernelspec": {
   "display_name": "Python 3",
   "language": "python",
   "name": "python3"
  },
  "language_info": {
   "codemirror_mode": {
    "name": "ipython",
    "version": 3
   },
   "file_extension": ".py",
   "mimetype": "text/x-python",
   "name": "python",
   "nbconvert_exporter": "python",
   "pygments_lexer": "ipython3",
   "version": "3.6.10"
  }
 },
 "nbformat": 4,
 "nbformat_minor": 4
}
