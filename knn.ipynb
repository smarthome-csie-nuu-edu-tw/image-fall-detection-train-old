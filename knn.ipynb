{
 "cells": [
  {
   "cell_type": "code",
   "execution_count": 1,
   "metadata": {},
   "outputs": [],
   "source": [
    "import pandas as pd"
   ]
  },
  {
   "cell_type": "code",
   "execution_count": 2,
   "metadata": {},
   "outputs": [],
   "source": [
    "df_fall = pd.read_csv('mdata/fall.csv')\n",
    "df_fall['target'] = 1\n",
    "df_sitting = pd.read_csv('mdata/sitting.csv')\n",
    "df_sitting['target'] = 0\n",
    "df_stand = pd.read_csv('mdata/stand.csv')\n",
    "df_stand['target'] = 0"
   ]
  },
  {
   "cell_type": "code",
   "execution_count": 3,
   "metadata": {},
   "outputs": [],
   "source": [
    "fdata = pd.concat([df_fall, df_sitting, df_stand], axis=0)"
   ]
  },
  {
   "cell_type": "code",
   "execution_count": 4,
   "metadata": {},
   "outputs": [
    {
     "data": {
      "text/html": [
       "<div>\n",
       "<style scoped>\n",
       "    .dataframe tbody tr th:only-of-type {\n",
       "        vertical-align: middle;\n",
       "    }\n",
       "\n",
       "    .dataframe tbody tr th {\n",
       "        vertical-align: top;\n",
       "    }\n",
       "\n",
       "    .dataframe thead th {\n",
       "        text-align: right;\n",
       "    }\n",
       "</style>\n",
       "<table border=\"1\" class=\"dataframe\">\n",
       "  <thead>\n",
       "    <tr style=\"text-align: right;\">\n",
       "      <th></th>\n",
       "      <th>x0</th>\n",
       "      <th>y0</th>\n",
       "      <th>score0</th>\n",
       "      <th>x1</th>\n",
       "      <th>y1</th>\n",
       "      <th>score1</th>\n",
       "      <th>x2</th>\n",
       "      <th>y2</th>\n",
       "      <th>score2</th>\n",
       "      <th>x3</th>\n",
       "      <th>...</th>\n",
       "      <th>x15</th>\n",
       "      <th>y15</th>\n",
       "      <th>score15</th>\n",
       "      <th>x16</th>\n",
       "      <th>y16</th>\n",
       "      <th>score16</th>\n",
       "      <th>x17</th>\n",
       "      <th>y17</th>\n",
       "      <th>score17</th>\n",
       "      <th>target</th>\n",
       "    </tr>\n",
       "  </thead>\n",
       "  <tbody>\n",
       "    <tr>\n",
       "      <th>0</th>\n",
       "      <td>0.000000</td>\n",
       "      <td>0.000000</td>\n",
       "      <td>0.337205</td>\n",
       "      <td>0.033681</td>\n",
       "      <td>-0.041667</td>\n",
       "      <td>0.479812</td>\n",
       "      <td>0.039931</td>\n",
       "      <td>-3.750000e-02</td>\n",
       "      <td>0.470078</td>\n",
       "      <td>0.055556</td>\n",
       "      <td>...</td>\n",
       "      <td>0.000000</td>\n",
       "      <td>0.000000</td>\n",
       "      <td>0.337205</td>\n",
       "      <td>0.049306</td>\n",
       "      <td>-0.037500</td>\n",
       "      <td>0.112311</td>\n",
       "      <td>0.000000</td>\n",
       "      <td>0.000000</td>\n",
       "      <td>0.337205</td>\n",
       "      <td>1</td>\n",
       "    </tr>\n",
       "    <tr>\n",
       "      <th>1</th>\n",
       "      <td>0.050000</td>\n",
       "      <td>-0.007639</td>\n",
       "      <td>0.257413</td>\n",
       "      <td>0.009375</td>\n",
       "      <td>0.042361</td>\n",
       "      <td>0.332611</td>\n",
       "      <td>0.000000</td>\n",
       "      <td>0.000000e+00</td>\n",
       "      <td>0.205765</td>\n",
       "      <td>0.000000</td>\n",
       "      <td>...</td>\n",
       "      <td>0.046875</td>\n",
       "      <td>-0.011806</td>\n",
       "      <td>0.149701</td>\n",
       "      <td>0.000000</td>\n",
       "      <td>0.000000</td>\n",
       "      <td>0.205765</td>\n",
       "      <td>0.043750</td>\n",
       "      <td>0.013194</td>\n",
       "      <td>0.211643</td>\n",
       "      <td>1</td>\n",
       "    </tr>\n",
       "    <tr>\n",
       "      <th>2</th>\n",
       "      <td>0.012500</td>\n",
       "      <td>0.070833</td>\n",
       "      <td>0.316636</td>\n",
       "      <td>-0.018750</td>\n",
       "      <td>0.025000</td>\n",
       "      <td>0.397123</td>\n",
       "      <td>-0.003125</td>\n",
       "      <td>-3.750000e-02</td>\n",
       "      <td>0.071235</td>\n",
       "      <td>-0.034375</td>\n",
       "      <td>...</td>\n",
       "      <td>0.000000</td>\n",
       "      <td>0.000000</td>\n",
       "      <td>0.287185</td>\n",
       "      <td>0.025000</td>\n",
       "      <td>0.041667</td>\n",
       "      <td>0.481964</td>\n",
       "      <td>0.000000</td>\n",
       "      <td>0.000000</td>\n",
       "      <td>0.287185</td>\n",
       "      <td>1</td>\n",
       "    </tr>\n",
       "    <tr>\n",
       "      <th>3</th>\n",
       "      <td>-0.092773</td>\n",
       "      <td>-0.013802</td>\n",
       "      <td>0.786730</td>\n",
       "      <td>-0.083398</td>\n",
       "      <td>0.065365</td>\n",
       "      <td>0.569318</td>\n",
       "      <td>-0.089648</td>\n",
       "      <td>9.453125e-02</td>\n",
       "      <td>0.336498</td>\n",
       "      <td>-0.033398</td>\n",
       "      <td>...</td>\n",
       "      <td>-0.099023</td>\n",
       "      <td>-0.022135</td>\n",
       "      <td>0.279194</td>\n",
       "      <td>-0.133398</td>\n",
       "      <td>0.027865</td>\n",
       "      <td>0.675597</td>\n",
       "      <td>0.000000</td>\n",
       "      <td>0.000000</td>\n",
       "      <td>0.471914</td>\n",
       "      <td>1</td>\n",
       "    </tr>\n",
       "    <tr>\n",
       "      <th>4</th>\n",
       "      <td>-0.109722</td>\n",
       "      <td>0.041204</td>\n",
       "      <td>0.670537</td>\n",
       "      <td>-0.056597</td>\n",
       "      <td>0.049537</td>\n",
       "      <td>0.553996</td>\n",
       "      <td>-0.059722</td>\n",
       "      <td>1.245370e-01</td>\n",
       "      <td>0.467081</td>\n",
       "      <td>0.018403</td>\n",
       "      <td>...</td>\n",
       "      <td>-0.115972</td>\n",
       "      <td>0.024537</td>\n",
       "      <td>0.791408</td>\n",
       "      <td>-0.112847</td>\n",
       "      <td>0.074537</td>\n",
       "      <td>0.409294</td>\n",
       "      <td>-0.100347</td>\n",
       "      <td>0.003704</td>\n",
       "      <td>0.508483</td>\n",
       "      <td>1</td>\n",
       "    </tr>\n",
       "    <tr>\n",
       "      <th>...</th>\n",
       "      <td>...</td>\n",
       "      <td>...</td>\n",
       "      <td>...</td>\n",
       "      <td>...</td>\n",
       "      <td>...</td>\n",
       "      <td>...</td>\n",
       "      <td>...</td>\n",
       "      <td>...</td>\n",
       "      <td>...</td>\n",
       "      <td>...</td>\n",
       "      <td>...</td>\n",
       "      <td>...</td>\n",
       "      <td>...</td>\n",
       "      <td>...</td>\n",
       "      <td>...</td>\n",
       "      <td>...</td>\n",
       "      <td>...</td>\n",
       "      <td>...</td>\n",
       "      <td>...</td>\n",
       "      <td>...</td>\n",
       "      <td>...</td>\n",
       "    </tr>\n",
       "    <tr>\n",
       "      <th>19</th>\n",
       "      <td>0.000000</td>\n",
       "      <td>0.000000</td>\n",
       "      <td>0.427889</td>\n",
       "      <td>0.093750</td>\n",
       "      <td>0.025000</td>\n",
       "      <td>0.155963</td>\n",
       "      <td>0.037500</td>\n",
       "      <td>-4.166667e-02</td>\n",
       "      <td>0.240738</td>\n",
       "      <td>-0.053125</td>\n",
       "      <td>...</td>\n",
       "      <td>0.000000</td>\n",
       "      <td>0.000000</td>\n",
       "      <td>0.427889</td>\n",
       "      <td>0.000000</td>\n",
       "      <td>0.000000</td>\n",
       "      <td>0.427889</td>\n",
       "      <td>0.000000</td>\n",
       "      <td>0.000000</td>\n",
       "      <td>0.427889</td>\n",
       "      <td>0</td>\n",
       "    </tr>\n",
       "    <tr>\n",
       "      <th>20</th>\n",
       "      <td>0.000000</td>\n",
       "      <td>0.000000</td>\n",
       "      <td>0.301821</td>\n",
       "      <td>0.046875</td>\n",
       "      <td>-0.060937</td>\n",
       "      <td>0.409316</td>\n",
       "      <td>-0.037500</td>\n",
       "      <td>-1.317708e-01</td>\n",
       "      <td>0.257309</td>\n",
       "      <td>-0.100000</td>\n",
       "      <td>...</td>\n",
       "      <td>0.000000</td>\n",
       "      <td>0.000000</td>\n",
       "      <td>0.301821</td>\n",
       "      <td>0.000000</td>\n",
       "      <td>0.000000</td>\n",
       "      <td>0.301821</td>\n",
       "      <td>0.000000</td>\n",
       "      <td>0.000000</td>\n",
       "      <td>0.301821</td>\n",
       "      <td>0</td>\n",
       "    </tr>\n",
       "    <tr>\n",
       "      <th>21</th>\n",
       "      <td>0.086111</td>\n",
       "      <td>-0.095833</td>\n",
       "      <td>0.325627</td>\n",
       "      <td>0.023611</td>\n",
       "      <td>0.054167</td>\n",
       "      <td>0.547986</td>\n",
       "      <td>-0.079514</td>\n",
       "      <td>5.000000e-02</td>\n",
       "      <td>0.399547</td>\n",
       "      <td>-0.154514</td>\n",
       "      <td>...</td>\n",
       "      <td>0.089236</td>\n",
       "      <td>-0.120833</td>\n",
       "      <td>0.256499</td>\n",
       "      <td>0.001736</td>\n",
       "      <td>-0.112500</td>\n",
       "      <td>0.309366</td>\n",
       "      <td>0.000000</td>\n",
       "      <td>0.000000</td>\n",
       "      <td>0.365404</td>\n",
       "      <td>0</td>\n",
       "    </tr>\n",
       "    <tr>\n",
       "      <th>22</th>\n",
       "      <td>0.000000</td>\n",
       "      <td>0.000000</td>\n",
       "      <td>0.449690</td>\n",
       "      <td>0.027344</td>\n",
       "      <td>-0.029167</td>\n",
       "      <td>0.663456</td>\n",
       "      <td>0.124219</td>\n",
       "      <td>5.551115e-17</td>\n",
       "      <td>0.492874</td>\n",
       "      <td>0.000000</td>\n",
       "      <td>...</td>\n",
       "      <td>0.000000</td>\n",
       "      <td>0.000000</td>\n",
       "      <td>0.449690</td>\n",
       "      <td>0.111719</td>\n",
       "      <td>-0.150000</td>\n",
       "      <td>0.704920</td>\n",
       "      <td>0.002344</td>\n",
       "      <td>-0.170833</td>\n",
       "      <td>0.512151</td>\n",
       "      <td>0</td>\n",
       "    </tr>\n",
       "    <tr>\n",
       "      <th>23</th>\n",
       "      <td>0.059375</td>\n",
       "      <td>-0.045486</td>\n",
       "      <td>0.129649</td>\n",
       "      <td>0.015625</td>\n",
       "      <td>-0.016319</td>\n",
       "      <td>0.431391</td>\n",
       "      <td>-0.046875</td>\n",
       "      <td>-8.715278e-02</td>\n",
       "      <td>0.324044</td>\n",
       "      <td>-0.137500</td>\n",
       "      <td>...</td>\n",
       "      <td>0.071875</td>\n",
       "      <td>-0.049653</td>\n",
       "      <td>0.123603</td>\n",
       "      <td>0.034375</td>\n",
       "      <td>-0.070486</td>\n",
       "      <td>0.124421</td>\n",
       "      <td>0.000000</td>\n",
       "      <td>0.000000</td>\n",
       "      <td>0.285611</td>\n",
       "      <td>0</td>\n",
       "    </tr>\n",
       "  </tbody>\n",
       "</table>\n",
       "<p>126 rows × 55 columns</p>\n",
       "</div>"
      ],
      "text/plain": [
       "          x0        y0    score0        x1        y1    score1        x2  \\\n",
       "0   0.000000  0.000000  0.337205  0.033681 -0.041667  0.479812  0.039931   \n",
       "1   0.050000 -0.007639  0.257413  0.009375  0.042361  0.332611  0.000000   \n",
       "2   0.012500  0.070833  0.316636 -0.018750  0.025000  0.397123 -0.003125   \n",
       "3  -0.092773 -0.013802  0.786730 -0.083398  0.065365  0.569318 -0.089648   \n",
       "4  -0.109722  0.041204  0.670537 -0.056597  0.049537  0.553996 -0.059722   \n",
       "..       ...       ...       ...       ...       ...       ...       ...   \n",
       "19  0.000000  0.000000  0.427889  0.093750  0.025000  0.155963  0.037500   \n",
       "20  0.000000  0.000000  0.301821  0.046875 -0.060937  0.409316 -0.037500   \n",
       "21  0.086111 -0.095833  0.325627  0.023611  0.054167  0.547986 -0.079514   \n",
       "22  0.000000  0.000000  0.449690  0.027344 -0.029167  0.663456  0.124219   \n",
       "23  0.059375 -0.045486  0.129649  0.015625 -0.016319  0.431391 -0.046875   \n",
       "\n",
       "              y2    score2        x3  ...       x15       y15   score15  \\\n",
       "0  -3.750000e-02  0.470078  0.055556  ...  0.000000  0.000000  0.337205   \n",
       "1   0.000000e+00  0.205765  0.000000  ...  0.046875 -0.011806  0.149701   \n",
       "2  -3.750000e-02  0.071235 -0.034375  ...  0.000000  0.000000  0.287185   \n",
       "3   9.453125e-02  0.336498 -0.033398  ... -0.099023 -0.022135  0.279194   \n",
       "4   1.245370e-01  0.467081  0.018403  ... -0.115972  0.024537  0.791408   \n",
       "..           ...       ...       ...  ...       ...       ...       ...   \n",
       "19 -4.166667e-02  0.240738 -0.053125  ...  0.000000  0.000000  0.427889   \n",
       "20 -1.317708e-01  0.257309 -0.100000  ...  0.000000  0.000000  0.301821   \n",
       "21  5.000000e-02  0.399547 -0.154514  ...  0.089236 -0.120833  0.256499   \n",
       "22  5.551115e-17  0.492874  0.000000  ...  0.000000  0.000000  0.449690   \n",
       "23 -8.715278e-02  0.324044 -0.137500  ...  0.071875 -0.049653  0.123603   \n",
       "\n",
       "         x16       y16   score16       x17       y17   score17  target  \n",
       "0   0.049306 -0.037500  0.112311  0.000000  0.000000  0.337205       1  \n",
       "1   0.000000  0.000000  0.205765  0.043750  0.013194  0.211643       1  \n",
       "2   0.025000  0.041667  0.481964  0.000000  0.000000  0.287185       1  \n",
       "3  -0.133398  0.027865  0.675597  0.000000  0.000000  0.471914       1  \n",
       "4  -0.112847  0.074537  0.409294 -0.100347  0.003704  0.508483       1  \n",
       "..       ...       ...       ...       ...       ...       ...     ...  \n",
       "19  0.000000  0.000000  0.427889  0.000000  0.000000  0.427889       0  \n",
       "20  0.000000  0.000000  0.301821  0.000000  0.000000  0.301821       0  \n",
       "21  0.001736 -0.112500  0.309366  0.000000  0.000000  0.365404       0  \n",
       "22  0.111719 -0.150000  0.704920  0.002344 -0.170833  0.512151       0  \n",
       "23  0.034375 -0.070486  0.124421  0.000000  0.000000  0.285611       0  \n",
       "\n",
       "[126 rows x 55 columns]"
      ]
     },
     "execution_count": 4,
     "metadata": {},
     "output_type": "execute_result"
    }
   ],
   "source": [
    "fdata"
   ]
  },
  {
   "cell_type": "code",
   "execution_count": 5,
   "metadata": {},
   "outputs": [],
   "source": [
    "df_feat = pd.DataFrame(fdata, columns=fdata.columns[:-1])"
   ]
  },
  {
   "cell_type": "code",
   "execution_count": 6,
   "metadata": {},
   "outputs": [],
   "source": [
    "#將資料分成訓練組及測試組\n",
    "from sklearn.model_selection import train_test_split\n",
    "\n",
    "X = df_feat\n",
    "y = fdata['target']\n",
    "X_train, X_test, y_train, y_test = train_test_split(X, y, test_size=0.3, random_state=15)"
   ]
  },
  {
   "cell_type": "code",
   "execution_count": 7,
   "metadata": {},
   "outputs": [],
   "source": [
    "#使用KNN演算法\n",
    "from sklearn.neighbors import KNeighborsClassifier\n",
    "\n",
    "def knnTest(kvalue):\n",
    "    global X_train, y_train, X_test, y_test\n",
    "    knn = KNeighborsClassifier(n_neighbors=kvalue)\n",
    "    knn.fit(X_train, y_train)\n",
    "    pred = knn.predict(X_test)\n",
    "    return [knn, pred, np.mean(pred != y_test)] # pred, error rate"
   ]
  },
  {
   "cell_type": "code",
   "execution_count": 8,
   "metadata": {},
   "outputs": [],
   "source": [
    "#選擇k值\n",
    "error_rate = []\n",
    "test_range = range(1, 50)\n",
    "\n",
    "for i in test_range:\n",
    "    [m, pred, er] = knnTest(i)\n",
    "    error_rate.append(er)"
   ]
  },
  {
   "cell_type": "code",
   "execution_count": 9,
   "metadata": {},
   "outputs": [
    {
     "data": {
      "text/plain": [
       "Text(0, 0.5, 'Error Rate')"
      ]
     },
     "execution_count": 9,
     "metadata": {},
     "output_type": "execute_result"
    },
    {
     "data": {
      "image/png": "[encoded data removed]",
      "text/plain": [
       "<Figure size 720x432 with 1 Axes>"
      ]
     },
     "metadata": {
      "needs_background": "light"
     },
     "output_type": "display_data"
    }
   ],
   "source": [
    "# 圖表: k值-錯誤率\n",
    "plt.figure(figsize=(10, 6))\n",
    "plt.plot(test_range, error_rate,color='blue', linestyle='dashed', marker='o',\n",
    "         markerfacecolor='red', markersize=10)\n",
    "plt.title('Error Rate vs. K Value')\n",
    "plt.xlabel('K')\n",
    "plt.ylabel('Error Rate')"
   ]
  },
  {
   "cell_type": "code",
   "execution_count": 10,
   "metadata": {},
   "outputs": [
    {
     "data": {
      "text/plain": [
       "0"
      ]
     },
     "execution_count": 10,
     "metadata": {},
     "output_type": "execute_result"
    }
   ],
   "source": [
    "error_rate.index(min(error_rate))"
   ]
  },
  {
   "cell_type": "code",
   "execution_count": 11,
   "metadata": {},
   "outputs": [
    {
     "name": "stdout",
     "output_type": "stream",
     "text": [
      "[[14  0]\n",
      " [ 1 23]]\n"
     ]
    }
   ],
   "source": [
    "# test\n",
    "[knnm, pred, er] = knnTest(2)\n",
    "from sklearn.metrics import classification_report, confusion_matrix\n",
    "print(confusion_matrix(y_test, pred))"
   ]
  },
  {
   "cell_type": "code",
   "execution_count": 12,
   "metadata": {},
   "outputs": [
    {
     "name": "stdout",
     "output_type": "stream",
     "text": [
      "              precision    recall  f1-score   support\n",
      "\n",
      "           0       0.93      1.00      0.97        14\n",
      "           1       1.00      0.96      0.98        24\n",
      "\n",
      "    accuracy                           0.97        38\n",
      "   macro avg       0.97      0.98      0.97        38\n",
      "weighted avg       0.98      0.97      0.97        38\n",
      "\n"
     ]
    }
   ],
   "source": [
    "print(classification_report(y_test, pred))"
   ]
  },
  {
   "cell_type": "code",
   "execution_count": 13,
   "metadata": {},
   "outputs": [],
   "source": [
    "pred = knnm.predict(df_feat.iloc[[0]])"
   ]
  },
  {
   "cell_type": "code",
   "execution_count": 14,
   "metadata": {},
   "outputs": [
    {
     "data": {
      "text/plain": [
       "1"
      ]
     },
     "execution_count": 14,
     "metadata": {},
     "output_type": "execute_result"
    }
   ],
   "source": [
    "pred[0]"
   ]
  },
  {
   "cell_type": "code",
   "execution_count": null,
   "metadata": {},
   "outputs": [],
   "source": []
  }
 ],
 "metadata": {
  "kernelspec": {
   "display_name": "Python 3",
   "language": "python",
   "name": "python3"
  },
  "language_info": {
   "codemirror_mode": {
    "name": "ipython",
    "version": 3
   },
   "file_extension": ".py",
   "mimetype": "text/x-python",
   "name": "python",
   "nbconvert_exporter": "python",
   "pygments_lexer": "ipython3",
   "version": "3.6.10"
  }
 },
 "nbformat": 4,
 "nbformat_minor": 4
}
